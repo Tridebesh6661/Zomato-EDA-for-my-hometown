{
 "cells": [
  {
   "cell_type": "code",
   "execution_count": 11,
   "id": "64e3628c",
   "metadata": {},
   "outputs": [
    {
     "name": "stdout",
     "output_type": "stream",
     "text": [
      "Enter the city: Bhubaneshwar\n",
      "Enter the cuisines: North Indian\n",
      "['Sahid Nagar' 'Chandrasekharpur' 'Patia' 'Kharabela Nagar'\n",
      " 'Jayadev Vihar' 'Ashok Nagar' 'Jagmohan Nagar' 'Unit 4' 'Lakshmi Sagar'\n",
      " 'Nayapalli' 'Satya Nagar' 'Khandagiri' 'Gajapati Nagar'\n",
      " 'BMC Bhawani Mall, Sahid Nagar' 'Baramunda'\n",
      " 'Mayfair Lagoon, Jayadev Vihar' 'Bapuji Nagar' 'BJB Nagar'\n",
      " 'Pal Heights, Jayadev Vihar' 'The Crown, Nayapalli'\n",
      " 'Fortune Park Sishmo, Bapuji Nagar' 'Swosti Premium, Jayadev Vihar'\n",
      " 'Empires Hotel, Sahid Nagar' 'Hotel Swosti, Kharabela Nagar'\n",
      " \"Hotel Sandy's Tower, Gajapati Nagar\" 'Trident Bhubaneshwar, Nayapalli'\n",
      " 'New Marrion Hotel, Kharabela Nagar'\n",
      " 'Hotel Hindustan International, Kharabela Nagar'\n",
      " 'VITS Hotel, Lakshmi Sagar' 'Hotel By The Way, Patia'\n",
      " 'Hotel Seetal, Sahid Nagar' 'Hotel Suryansh, Chandrasekharpur'\n",
      " 'Surya Nagar' 'Jatni' 'Patrapada' 'Kalinga Nagar' 'Rasulgarh'\n",
      " 'Hotel Pushpak, Lakshmi Sagar' 'Prangan by Mango Hotel, Lakshmi Sagar'\n",
      " 'Sun Green, Satya Nagar' 'The Royale Midtown, Ashok Nagar'\n",
      " 'Hotel Sambit Palace, Ashok Nagar'\n",
      " 'Hotel Deepali International, Lakshmi Sagar'\n",
      " 'Keshari Hotel, Kharabela Nagar' 'Forest Park']\n",
      "Enter the locality: Patia\n",
      "Estimated Aggregate Rating: 3.574975383444295\n"
     ]
    }
   ],
   "source": [
    "import pandas as pd\n",
    "from sklearn.model_selection import train_test_split\n",
    "from sklearn.linear_model import LinearRegression\n",
    "from sklearn.preprocessing import OneHotEncoder\n",
    "from sklearn.impute import SimpleImputer\n",
    "from sklearn.pipeline import Pipeline\n",
    "from sklearn.compose import ColumnTransformer\n",
    "\n",
    "df = pd.read_csv(r'C:\\Users\\KIIT\\Desktop\\zomato_restaurants_in_India.csv')\n",
    "\n",
    "df = df.dropna(subset=['aggregate_rating'])\n",
    "\n",
    "X = df[['city', 'cuisines', 'locality']]\n",
    "y = df['aggregate_rating']\n",
    "\n",
    "X_train, X_test, y_train, y_test = train_test_split(X, y, test_size=0.2, random_state=42)\n",
    "\n",
    "categorical_features = ['city', 'cuisines', 'locality']\n",
    "categorical_transformer = Pipeline(steps=[\n",
    "    ('imputer', SimpleImputer(strategy='constant', fill_value='missing')),\n",
    "    ('onehot_encoder', OneHotEncoder(handle_unknown='ignore'))\n",
    "])\n",
    "\n",
    "preprocessor = ColumnTransformer(\n",
    "    transformers=[\n",
    "        ('cat', categorical_transformer, categorical_features),\n",
    "    ],\n",
    "    remainder='passthrough'\n",
    ")\n",
    "\n",
    "model = Pipeline(steps=[\n",
    "    ('preprocessor', preprocessor),\n",
    "    ('regressor', LinearRegression())\n",
    "])\n",
    "\n",
    "\n",
    "model.fit(X_train, y_train)\n",
    "\n",
    "\n",
    "user_city = input(\"Enter the city: \")\n",
    "user_cuisines = input(\"Enter the cuisines: \")\n",
    "dfh =  df[df['city'] == user_city]\n",
    "print(dfh['locality'].unique())\n",
    "user_locality = input(\"Enter the locality: \")\n",
    "\n",
    "input_data = pd.DataFrame({'city': [user_city], 'cuisines': [user_cuisines], 'locality': [user_locality]})\n",
    "\n",
    "estimated_rating = model.predict(input_data)\n",
    "print(f\"Estimated Aggregate Rating: {estimated_rating[0]}\")\n"
   ]
  },
  {
   "cell_type": "code",
   "execution_count": null,
   "id": "fb456a22",
   "metadata": {},
   "outputs": [],
   "source": []
  },
  {
   "cell_type": "code",
   "execution_count": null,
   "id": "1bbd94e8",
   "metadata": {},
   "outputs": [],
   "source": []
  }
 ],
 "metadata": {
  "kernelspec": {
   "display_name": "Python 3 (ipykernel)",
   "language": "python",
   "name": "python3"
  },
  "language_info": {
   "codemirror_mode": {
    "name": "ipython",
    "version": 3
   },
   "file_extension": ".py",
   "mimetype": "text/x-python",
   "name": "python",
   "nbconvert_exporter": "python",
   "pygments_lexer": "ipython3",
   "version": "3.11.5"
  }
 },
 "nbformat": 4,
 "nbformat_minor": 5
}
